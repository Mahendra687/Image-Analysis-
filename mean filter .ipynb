{
 "cells": [
  {
   "cell_type": "markdown",
   "id": "ef946ba4",
   "metadata": {},
   "source": [
    "### A mean filter in Python"
   ]
  },
  {
   "cell_type": "markdown",
   "id": "39ff4c3d",
   "metadata": {},
   "source": [
    "### Installation "
   ]
  },
  {
   "cell_type": "code",
   "execution_count": null,
   "id": "48e89255",
   "metadata": {},
   "outputs": [],
   "source": [
    "conda install -c conda-forge pyimagej\n",
    "conda install -c ome omero-py\n",
    "pip install jupyter-repo2docker\n",
    "conda install -c conda-forge jpype1\n",
    "pip install JPype1"
   ]
  },
  {
   "cell_type": "markdown",
   "id": "f25af5ed",
   "metadata": {},
   "source": [
    "## Importing"
   ]
  },
  {
   "cell_type": "code",
   "execution_count": null,
   "id": "8baf4e19",
   "metadata": {},
   "outputs": [],
   "source": [
    "import imagej\n",
    "from omero.gateway import BlitzGateway"
   ]
  },
  {
   "cell_type": "markdown",
   "id": "992ebeb7",
   "metadata": {},
   "source": [
    "### Filttering"
   ]
  },
  {
   "cell_type": "code",
   "execution_count": null,
   "id": "9a0ed24e",
   "metadata": {},
   "outputs": [],
   "source": [
    "from ij import IJ  # use a library\n",
    "\n",
    "#Use a library to pop up a file chooser. Choose a greyscale file! If it is large it will take a while to run....\n",
    "image = IJ.openImage()\n",
    "image.setTitle(\"In image\")\n",
    "processor = image.getProcessor()\n",
    "\n",
    "#copy the image so we can then write to this as an output\n",
    "output_image = image.duplicate()\n",
    "output_image.setTitle(\"Filtered image\")\n",
    "output_processor = output_image.getProcessor()\n",
    "\n",
    "width = image.getWidth() # get the width of the image in pixels\n",
    "height = image.getHeight()#get the height of the image in pixels\n",
    "\n",
    "#For every pixel in the image (except the ones at the edges; here we just ignore the pixels at each edge)\n",
    "#add up pixel values in the surrounding 3x3 pixels (including centre one)\n",
    "#calculate the mean of these\n",
    "\n",
    "for x in range(1,width-1): #move along x coordinates\n",
    "    for y in range(1, height-1):#move along y coordinates\n",
    "        total = 0.0\n",
    "        total = total + processor.getPixel(x,y)     #centre pixel value\n",
    "        total = total + processor.getPixel(x-1,y)   #left\n",
    "        total = total + processor.getPixel(x-1,y+1) #bottom left\n",
    "        total = total + processor.getPixel(x,y+1)   #bottom \n",
    "        total = total + processor.getPixel(x+1,y+1) #bottom right\n",
    "        total = total + processor.getPixel(x+1,y)   #right\n",
    "        total = total + processor.getPixel(x+1,y-1) #top right\n",
    "        total = total + processor.getPixel(x,y-1)   #top \n",
    "        total = total + processor.getPixel(x-1,y-1) #top left\n",
    "        output_processor.set(x, y, (int)(total/9))  #calculate the mean, set this value on the output image\n",
    "  \n",
    "#show both the images\n",
    "image.show()\n",
    "output_image.show()"
   ]
  },
  {
   "cell_type": "markdown",
   "id": "2d1d5414",
   "metadata": {},
   "source": [
    "Done | **Thank you**"
   ]
  }
 ],
 "metadata": {
  "kernelspec": {
   "display_name": "Python 3",
   "language": "python",
   "name": "python3"
  },
  "language_info": {
   "codemirror_mode": {
    "name": "ipython",
    "version": 3
   },
   "file_extension": ".py",
   "mimetype": "text/x-python",
   "name": "python",
   "nbconvert_exporter": "python",
   "pygments_lexer": "ipython3",
   "version": "3.8.8"
  }
 },
 "nbformat": 4,
 "nbformat_minor": 5
}
